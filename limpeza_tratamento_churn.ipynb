{
 "cells": [
  {
   "cell_type": "code",
   "execution_count": 1,
   "metadata": {},
   "outputs": [],
   "source": [
    "import pandas as pd"
   ]
  },
  {
   "cell_type": "code",
   "execution_count": 2,
   "metadata": {},
   "outputs": [
    {
     "data": {
      "text/html": [
       "<div>\n",
       "<style scoped>\n",
       "    .dataframe tbody tr th:only-of-type {\n",
       "        vertical-align: middle;\n",
       "    }\n",
       "\n",
       "    .dataframe tbody tr th {\n",
       "        vertical-align: top;\n",
       "    }\n",
       "\n",
       "    .dataframe thead th {\n",
       "        text-align: right;\n",
       "    }\n",
       "</style>\n",
       "<table border=\"1\" class=\"dataframe\">\n",
       "  <thead>\n",
       "    <tr style=\"text-align: right;\">\n",
       "      <th></th>\n",
       "      <th>id_cliente</th>\n",
       "      <th>Churn</th>\n",
       "      <th>cliente</th>\n",
       "      <th>telefone</th>\n",
       "      <th>internet</th>\n",
       "      <th>conta</th>\n",
       "    </tr>\n",
       "  </thead>\n",
       "  <tbody>\n",
       "    <tr>\n",
       "      <th>0</th>\n",
       "      <td>0002-ORFBO</td>\n",
       "      <td>nao</td>\n",
       "      <td>{'genero': 'feminino', 'idoso': 0, 'parceiro':...</td>\n",
       "      <td>{'servico_telefone': 'sim', 'varias_linhas': '...</td>\n",
       "      <td>{'servico_internet': 'DSL', 'seguranca_online'...</td>\n",
       "      <td>{'contrato': None, 'faturamente_eletronico': N...</td>\n",
       "    </tr>\n",
       "    <tr>\n",
       "      <th>1</th>\n",
       "      <td>0003-MKNFE</td>\n",
       "      <td>nao</td>\n",
       "      <td>{'genero': 'masculino', 'idoso': 0, 'parceiro'...</td>\n",
       "      <td>{'servico_telefone': 'sim', 'varias_linhas': '...</td>\n",
       "      <td>{'servico_internet': 'DSL', 'seguranca_online'...</td>\n",
       "      <td>{'contrato': 'mes a mes', 'faturamente_eletron...</td>\n",
       "    </tr>\n",
       "    <tr>\n",
       "      <th>2</th>\n",
       "      <td>0004-TLHLJ</td>\n",
       "      <td>sim</td>\n",
       "      <td>{'genero': 'masculino', 'idoso': 0, 'parceiro'...</td>\n",
       "      <td>{'servico_telefone': 'sim', 'varias_linhas': '...</td>\n",
       "      <td>{'servico_internet': 'fibra otica', 'seguranca...</td>\n",
       "      <td>{'contrato': 'mes a mes', 'faturamente_eletron...</td>\n",
       "    </tr>\n",
       "    <tr>\n",
       "      <th>3</th>\n",
       "      <td>0011-IGKFF</td>\n",
       "      <td>sim</td>\n",
       "      <td>{'genero': 'masculino', 'idoso': 1, 'parceiro'...</td>\n",
       "      <td>{'servico_telefone': 'sim', 'varias_linhas': '...</td>\n",
       "      <td>{'servico_internet': 'fibra otica', 'seguranca...</td>\n",
       "      <td>{'contrato': 'mes a mes', 'faturamente_eletron...</td>\n",
       "    </tr>\n",
       "    <tr>\n",
       "      <th>4</th>\n",
       "      <td>0013-EXCHZ</td>\n",
       "      <td>sim</td>\n",
       "      <td>{'genero': 'feminino', 'idoso': 1, 'parceiro':...</td>\n",
       "      <td>{'servico_telefone': 'sim', 'varias_linhas': '...</td>\n",
       "      <td>{'servico_internet': 'fibra otica', 'seguranca...</td>\n",
       "      <td>{'contrato': 'mes a mes', 'faturamente_eletron...</td>\n",
       "    </tr>\n",
       "  </tbody>\n",
       "</table>\n",
       "</div>"
      ],
      "text/plain": [
       "   id_cliente Churn                                            cliente  \\\n",
       "0  0002-ORFBO   nao  {'genero': 'feminino', 'idoso': 0, 'parceiro':...   \n",
       "1  0003-MKNFE   nao  {'genero': 'masculino', 'idoso': 0, 'parceiro'...   \n",
       "2  0004-TLHLJ   sim  {'genero': 'masculino', 'idoso': 0, 'parceiro'...   \n",
       "3  0011-IGKFF   sim  {'genero': 'masculino', 'idoso': 1, 'parceiro'...   \n",
       "4  0013-EXCHZ   sim  {'genero': 'feminino', 'idoso': 1, 'parceiro':...   \n",
       "\n",
       "                                            telefone  \\\n",
       "0  {'servico_telefone': 'sim', 'varias_linhas': '...   \n",
       "1  {'servico_telefone': 'sim', 'varias_linhas': '...   \n",
       "2  {'servico_telefone': 'sim', 'varias_linhas': '...   \n",
       "3  {'servico_telefone': 'sim', 'varias_linhas': '...   \n",
       "4  {'servico_telefone': 'sim', 'varias_linhas': '...   \n",
       "\n",
       "                                            internet  \\\n",
       "0  {'servico_internet': 'DSL', 'seguranca_online'...   \n",
       "1  {'servico_internet': 'DSL', 'seguranca_online'...   \n",
       "2  {'servico_internet': 'fibra otica', 'seguranca...   \n",
       "3  {'servico_internet': 'fibra otica', 'seguranca...   \n",
       "4  {'servico_internet': 'fibra otica', 'seguranca...   \n",
       "\n",
       "                                               conta  \n",
       "0  {'contrato': None, 'faturamente_eletronico': N...  \n",
       "1  {'contrato': 'mes a mes', 'faturamente_eletron...  \n",
       "2  {'contrato': 'mes a mes', 'faturamente_eletron...  \n",
       "3  {'contrato': 'mes a mes', 'faturamente_eletron...  \n",
       "4  {'contrato': 'mes a mes', 'faturamente_eletron...  "
      ]
     },
     "execution_count": 2,
     "metadata": {},
     "output_type": "execute_result"
    }
   ],
   "source": [
    "dados_churn = pd.read_json(\"dataset-telecon.json\")\n",
    "dados_churn.head()"
   ]
  },
  {
   "cell_type": "code",
   "execution_count": 3,
   "metadata": {},
   "outputs": [
    {
     "data": {
      "text/plain": [
       "{'contrato': None,\n",
       " 'faturamente_eletronico': None,\n",
       " 'metodo_pagamento': None,\n",
       " 'cobranca': {'mensal': None, 'Total': None}}"
      ]
     },
     "execution_count": 3,
     "metadata": {},
     "output_type": "execute_result"
    }
   ],
   "source": [
    "dados_churn[\"conta\"][0]"
   ]
  },
  {
   "cell_type": "code",
   "execution_count": 4,
   "metadata": {},
   "outputs": [
    {
     "data": {
      "text/html": [
       "<div>\n",
       "<style scoped>\n",
       "    .dataframe tbody tr th:only-of-type {\n",
       "        vertical-align: middle;\n",
       "    }\n",
       "\n",
       "    .dataframe tbody tr th {\n",
       "        vertical-align: top;\n",
       "    }\n",
       "\n",
       "    .dataframe thead th {\n",
       "        text-align: right;\n",
       "    }\n",
       "</style>\n",
       "<table border=\"1\" class=\"dataframe\">\n",
       "  <thead>\n",
       "    <tr style=\"text-align: right;\">\n",
       "      <th></th>\n",
       "      <th>contrato</th>\n",
       "      <th>faturamente_eletronico</th>\n",
       "      <th>metodo_pagamento</th>\n",
       "      <th>cobranca.mensal</th>\n",
       "      <th>cobranca.Total</th>\n",
       "    </tr>\n",
       "  </thead>\n",
       "  <tbody>\n",
       "    <tr>\n",
       "      <th>0</th>\n",
       "      <td>None</td>\n",
       "      <td>None</td>\n",
       "      <td>None</td>\n",
       "      <td>NaN</td>\n",
       "      <td>None</td>\n",
       "    </tr>\n",
       "    <tr>\n",
       "      <th>1</th>\n",
       "      <td>mes a mes</td>\n",
       "      <td>nao</td>\n",
       "      <td>cheque pelo correio</td>\n",
       "      <td>59.9</td>\n",
       "      <td>542.4</td>\n",
       "    </tr>\n",
       "    <tr>\n",
       "      <th>2</th>\n",
       "      <td>mes a mes</td>\n",
       "      <td>sim</td>\n",
       "      <td>cheque eletronico</td>\n",
       "      <td>73.9</td>\n",
       "      <td>280.85</td>\n",
       "    </tr>\n",
       "    <tr>\n",
       "      <th>3</th>\n",
       "      <td>mes a mes</td>\n",
       "      <td>sim</td>\n",
       "      <td>cheque eletronico</td>\n",
       "      <td>98.0</td>\n",
       "      <td>1237.85</td>\n",
       "    </tr>\n",
       "    <tr>\n",
       "      <th>4</th>\n",
       "      <td>mes a mes</td>\n",
       "      <td>sim</td>\n",
       "      <td>cheque pelo correio</td>\n",
       "      <td>83.9</td>\n",
       "      <td>267.4</td>\n",
       "    </tr>\n",
       "  </tbody>\n",
       "</table>\n",
       "</div>"
      ],
      "text/plain": [
       "    contrato faturamente_eletronico     metodo_pagamento  cobranca.mensal  \\\n",
       "0       None                   None                 None              NaN   \n",
       "1  mes a mes                    nao  cheque pelo correio             59.9   \n",
       "2  mes a mes                    sim    cheque eletronico             73.9   \n",
       "3  mes a mes                    sim    cheque eletronico             98.0   \n",
       "4  mes a mes                    sim  cheque pelo correio             83.9   \n",
       "\n",
       "  cobranca.Total  \n",
       "0           None  \n",
       "1          542.4  \n",
       "2         280.85  \n",
       "3        1237.85  \n",
       "4          267.4  "
      ]
     },
     "execution_count": 4,
     "metadata": {},
     "output_type": "execute_result"
    }
   ],
   "source": [
    "pd.json_normalize(dados_churn[\"conta\"]).head()"
   ]
  },
  {
   "cell_type": "code",
   "execution_count": 5,
   "metadata": {},
   "outputs": [
    {
     "data": {
      "text/html": [
       "<div>\n",
       "<style scoped>\n",
       "    .dataframe tbody tr th:only-of-type {\n",
       "        vertical-align: middle;\n",
       "    }\n",
       "\n",
       "    .dataframe tbody tr th {\n",
       "        vertical-align: top;\n",
       "    }\n",
       "\n",
       "    .dataframe thead th {\n",
       "        text-align: right;\n",
       "    }\n",
       "</style>\n",
       "<table border=\"1\" class=\"dataframe\">\n",
       "  <thead>\n",
       "    <tr style=\"text-align: right;\">\n",
       "      <th></th>\n",
       "      <th>servico_telefone</th>\n",
       "      <th>varias_linhas</th>\n",
       "    </tr>\n",
       "  </thead>\n",
       "  <tbody>\n",
       "    <tr>\n",
       "      <th>0</th>\n",
       "      <td>sim</td>\n",
       "      <td>nao</td>\n",
       "    </tr>\n",
       "    <tr>\n",
       "      <th>1</th>\n",
       "      <td>sim</td>\n",
       "      <td>sim</td>\n",
       "    </tr>\n",
       "    <tr>\n",
       "      <th>2</th>\n",
       "      <td>sim</td>\n",
       "      <td>nao</td>\n",
       "    </tr>\n",
       "    <tr>\n",
       "      <th>3</th>\n",
       "      <td>sim</td>\n",
       "      <td>nao</td>\n",
       "    </tr>\n",
       "    <tr>\n",
       "      <th>4</th>\n",
       "      <td>sim</td>\n",
       "      <td>nao</td>\n",
       "    </tr>\n",
       "  </tbody>\n",
       "</table>\n",
       "</div>"
      ],
      "text/plain": [
       "  servico_telefone varias_linhas\n",
       "0              sim           nao\n",
       "1              sim           sim\n",
       "2              sim           nao\n",
       "3              sim           nao\n",
       "4              sim           nao"
      ]
     },
     "execution_count": 5,
     "metadata": {},
     "output_type": "execute_result"
    }
   ],
   "source": [
    "pd.json_normalize(dados_churn[\"telefone\"]).head()"
   ]
  },
  {
   "cell_type": "markdown",
   "metadata": {},
   "source": [
    "---"
   ]
  },
  {
   "cell_type": "markdown",
   "metadata": {},
   "source": [
    "##### O que são modelos de machine learning?\n",
    "\n",
    "**Modelos de machine learning** são um tipo de tecnologia que permite que computadores aprendam a realizar tarefas específicas sem serem explicitamente programados para isso. Esses modelos são criados por meio de algoritmos que analisam dados e identificam padrões para criar uma representação matemática da relação entre os dados de entrada e de saída.\n",
    "\n",
    "Para entender melhor, imagine que você quer criar um modelo para prever se uma pessoa vai gostar ou não de um filme baseado em características, como: gênero, elenco, sinopse, diretor(a), etc. Você começa alimentando o modelo com um conjunto de dados que contém informações sobre os filmes e as avaliações das pessoas. O modelo usa esses dados para encontrar padrões e criar uma equação matemática que pode ser usada para prever se uma pessoa vai gostar ou não de um determinado filme.\n",
    "\n",
    "Outro exemplo de modelo de machine learning é a recomendação de produtos em sites de compras online como a Amazon. O modelo recebe dados de compra e histórico de navegação da pessoa usuária e usa esses dados para recomendar produtos que a pessoa pode gostar.\n",
    "\n",
    "Os modelos de Machine Learning são amplamente utilizados em diversas áreas, como: detecção de fraudes em transações financeiras, reconhecimento de voz e imagem, diagnóstico médico, entre outros. Eles são capazes de realizar tarefas complexas de forma muito mais rápida e eficiente e têm a capacidade de aprender e melhorar continuamente com o tempo, tornando-se cada vez mais precisos e confiáveis.\n",
    "\n",
    "#### O que é churn?\n",
    "\n",
    "**Churn** é um termo utilizado para se referir à taxa de cancelamento de clientes em um determinado período de tempo. Em outras palavras, é a porcentagem de clientes que deixam de usar um produto ou serviço em um determinado período.\n",
    "\n",
    "O Churn é importante por ser um indicador da saúde financeira e do desempenho de uma empresa. Uma taxa alta de Churn pode significar que a empresa está perdendo clientes mais rapidamente do que está adquirindo novos, o que pode ser um sinal de problemas com o produto ou serviço oferecido, com a experiência do(a) cliente ou com a concorrência.\n",
    "\n",
    "Por outro lado, uma taxa baixa de Churn pode indicar que a empresa está retendo clientes e oferecendo um bom serviço ou produto. É importante monitorar a taxa de Churn e trabalhar para mantê-la o mais baixa possível, a fim de garantir a satisfação e fidelidade dos(as) clientes.\n",
    "\n",
    "A importância de desenvolver um modelo de machine learning capaz de prever o Churn é que isso pode ajudar as empresas a identificar clientes que estão em risco de cancelar o serviço ou produto. Através de um modelo de machine learning, a empresa pode analisar dados históricos de clientes, compreendendo melhor as causas do Churn e, com base nessas informações, tomar medidas proativas para reter essas pessoas, como: oferecer descontos, melhorar o serviço ou enviar ofertas personalizadas."
   ]
  },
  {
   "cell_type": "markdown",
   "metadata": {},
   "source": [
    "---"
   ]
  },
  {
   "cell_type": "code",
   "execution_count": null,
   "metadata": {},
   "outputs": [],
   "source": []
  }
 ],
 "metadata": {
  "kernelspec": {
   "display_name": "Python 3",
   "language": "python",
   "name": "python3"
  },
  "language_info": {
   "codemirror_mode": {
    "name": "ipython",
    "version": 3
   },
   "file_extension": ".py",
   "mimetype": "text/x-python",
   "name": "python",
   "nbconvert_exporter": "python",
   "pygments_lexer": "ipython3",
   "version": "3.12.4"
  }
 },
 "nbformat": 4,
 "nbformat_minor": 2
}
